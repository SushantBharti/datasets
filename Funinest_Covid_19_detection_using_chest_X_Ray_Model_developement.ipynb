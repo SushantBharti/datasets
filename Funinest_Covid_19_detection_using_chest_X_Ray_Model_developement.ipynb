{
  "nbformat": 4,
  "nbformat_minor": 0,
  "metadata": {
    "colab": {
      "name": "Funinest_Covid_19_detection_using_chest_X-Ray_Model_developement.ipynb",
      "provenance": [],
      "include_colab_link": true
    },
    "kernelspec": {
      "name": "python3",
      "display_name": "Python 3"
    },
    "accelerator": "GPU"
  },
  "cells": [
    {
      "cell_type": "markdown",
      "metadata": {
        "id": "view-in-github",
        "colab_type": "text"
      },
      "source": [
        "<a href=\"https://colab.research.google.com/github/SushantBharti/datasets/blob/master/Funinest_Covid_19_detection_using_chest_X_Ray_Model_developement.ipynb\" target=\"_parent\"><img src=\"https://colab.research.google.com/assets/colab-badge.svg\" alt=\"Open In Colab\"/></a>"
      ]
    },
    {
      "cell_type": "code",
      "metadata": {
        "id": "aYwU3pUX8yoL",
        "colab_type": "code",
        "outputId": "ba60c348-bcef-4c73-dbb6-85875ef7f6b1",
        "colab": {
          "base_uri": "https://localhost:8080/",
          "height": 121
        }
      },
      "source": [
        "from google.colab import drive\n",
        "drive.mount('/content/gdrive')"
      ],
      "execution_count": 0,
      "outputs": [
        {
          "output_type": "stream",
          "text": [
            "Go to this URL in a browser: https://accounts.google.com/o/oauth2/auth?client_id=947318989803-6bn6qk8qdgf4n4g3pfee6491hc0brc4i.apps.googleusercontent.com&redirect_uri=urn%3aietf%3awg%3aoauth%3a2.0%3aoob&response_type=code&scope=email%20https%3a%2f%2fwww.googleapis.com%2fauth%2fdocs.test%20https%3a%2f%2fwww.googleapis.com%2fauth%2fdrive%20https%3a%2f%2fwww.googleapis.com%2fauth%2fdrive.photos.readonly%20https%3a%2f%2fwww.googleapis.com%2fauth%2fpeopleapi.readonly\n",
            "\n",
            "Enter your authorization code:\n",
            "··········\n",
            "Mounted at /content/gdrive\n"
          ],
          "name": "stdout"
        }
      ]
    },
    {
      "cell_type": "code",
      "metadata": {
        "id": "l7mshyM49TLX",
        "colab_type": "code",
        "outputId": "54241443-13b9-405a-cc4f-af8ac26d35ee",
        "colab": {
          "base_uri": "https://localhost:8080/",
          "height": 84
        }
      },
      "source": [
        "!ls /content/gdrive/My\\ Drive/Google_Colab/"
      ],
      "execution_count": 0,
      "outputs": [
        {
          "output_type": "stream",
          "text": [
            "Chest_XRay_densenet.hdf5\tHandsOnGoogleColabGPU.ipynb\n",
            "Chest_XRay_pretrained_model.h5\tmnist_cnn.py\n",
            "Covid_19_data_zip.zip\t\tPneumonia_Detection\n",
            "FLU_Prediction\t\t\tTitanic.csv\n"
          ],
          "name": "stdout"
        }
      ]
    },
    {
      "cell_type": "code",
      "metadata": {
        "id": "iMLwguQg9qw_",
        "colab_type": "code",
        "outputId": "e7a4657d-6037-45d0-b375-407dc9576181",
        "colab": {
          "base_uri": "https://localhost:8080/",
          "height": 34
        }
      },
      "source": [
        "import os\n",
        "os.getcwd()"
      ],
      "execution_count": 0,
      "outputs": [
        {
          "output_type": "execute_result",
          "data": {
            "text/plain": [
              "'/content'"
            ]
          },
          "metadata": {
            "tags": []
          },
          "execution_count": 4
        }
      ]
    },
    {
      "cell_type": "code",
      "metadata": {
        "id": "YRrSCQfx94FH",
        "colab_type": "code",
        "colab": {}
      },
      "source": [
        "! mkdir /content/covid_19"
      ],
      "execution_count": 0,
      "outputs": []
    },
    {
      "cell_type": "code",
      "metadata": {
        "id": "9utm1Mdl9_y_",
        "colab_type": "code",
        "colab": {}
      },
      "source": [
        "! unzip /content/gdrive/My\\ Drive/Google_Colab/Covid_19_data_zip.zip -d /content/covid_19"
      ],
      "execution_count": 0,
      "outputs": []
    },
    {
      "cell_type": "code",
      "metadata": {
        "id": "jpgGX-8N-Khi",
        "colab_type": "code",
        "outputId": "3940e91b-63d5-491c-da32-d45524af628e",
        "colab": {
          "base_uri": "https://localhost:8080/",
          "height": 34
        }
      },
      "source": [
        "!ls /content/covid_19/content/cloned-repo/Covid_19/training/"
      ],
      "execution_count": 0,
      "outputs": [
        {
          "output_type": "stream",
          "text": [
            "covid  non_covid\n"
          ],
          "name": "stdout"
        }
      ]
    },
    {
      "cell_type": "code",
      "metadata": {
        "id": "Y2DCYXZp_ObI",
        "colab_type": "code",
        "colab": {}
      },
      "source": [
        "def get_train_generator(image_dir,shuffle=True, batch_size=16, seed=1, target_w = 320, target_h = 320):\n",
        "    \"\"\"\n",
        "    Return generator for training set, normalizing using batch\n",
        "    statistics.\n",
        "\n",
        "    Args:\n",
        "      train_df (dataframe): dataframe specifying training data.\n",
        "      image_dir (str): directory where image files are held.\n",
        "      x_col (str): name of column in df that holds filenames.\n",
        "      y_cols (list): list of strings that hold y labels for images.\n",
        "      batch_size (int): images per batch to be fed into model during training.\n",
        "      seed (int): random seed.\n",
        "      target_w (int): final width of input images.\n",
        "      target_h (int): final height of input images.\n",
        "    \n",
        "    Returns:\n",
        "        train_generator (DataFrameIterator): iterator over training set\n",
        "    \"\"\"        \n",
        "    print(\"getting train generator...\") \n",
        "    # normalize images\n",
        "    image_generator = ImageDataGenerator(\n",
        "        samplewise_center=True,\n",
        "        samplewise_std_normalization= True)\n",
        "    \n",
        "    # flow from directory with specified batch size\n",
        "    # and target image size\n",
        "    generator = image_generator.flow_from_directory(\n",
        "            directory=image_dir,\n",
        "            class_mode=\"binary\",\n",
        "            batch_size=batch_size,\n",
        "            shuffle=shuffle,\n",
        "            seed=seed,\n",
        "            target_size=(target_w,target_h))\n",
        "    \n",
        "    return generator"
      ],
      "execution_count": 0,
      "outputs": []
    },
    {
      "cell_type": "code",
      "metadata": {
        "id": "6j_o0-GeD87R",
        "colab_type": "code",
        "outputId": "f860257c-3b13-4745-ec5e-451e7b74dfac",
        "colab": {
          "base_uri": "https://localhost:8080/",
          "height": 67
        }
      },
      "source": [
        "from keras.preprocessing.image import ImageDataGenerator\n",
        "TRAINING_DIR = \"/content/covid_19/content/cloned-repo/Covid_19/training/\"\n",
        "train_generator = get_train_generator(image_dir = TRAINING_DIR)\n"
      ],
      "execution_count": 0,
      "outputs": [
        {
          "output_type": "stream",
          "text": [
            "Using TensorFlow backend.\n"
          ],
          "name": "stderr"
        },
        {
          "output_type": "stream",
          "text": [
            "getting train generator...\n",
            "Found 1694 images belonging to 2 classes.\n"
          ],
          "name": "stdout"
        }
      ]
    },
    {
      "cell_type": "code",
      "metadata": {
        "id": "AYAKJjjVFaGy",
        "colab_type": "code",
        "outputId": "5c502002-0e16-49c3-8c64-f0bbe0a7176d",
        "colab": {
          "base_uri": "https://localhost:8080/",
          "height": 70
        }
      },
      "source": [
        "import numpy as np\n",
        "import pandas as pd\n",
        "import seaborn as sns\n",
        "import matplotlib.pyplot as plt\n",
        "\n",
        "from keras.preprocessing.image import ImageDataGenerator\n",
        "from keras.applications.densenet import DenseNet121\n",
        "from keras.layers import Dense, GlobalAveragePooling2D\n",
        "from keras.models import Model\n",
        "from keras import backend as K\n",
        "\n",
        "from keras.models import load_model"
      ],
      "execution_count": 0,
      "outputs": [
        {
          "output_type": "stream",
          "text": [
            "/usr/local/lib/python3.6/dist-packages/statsmodels/tools/_testing.py:19: FutureWarning: pandas.util.testing is deprecated. Use the functions in the public API at pandas.testing instead.\n",
            "  import pandas.util.testing as tm\n"
          ],
          "name": "stderr"
        }
      ]
    },
    {
      "cell_type": "code",
      "metadata": {
        "id": "QeNSrE1rFUkZ",
        "colab_type": "code",
        "outputId": "48131651-3012-437e-8019-8df86d620cce",
        "colab": {
          "base_uri": "https://localhost:8080/",
          "height": 286
        }
      },
      "source": [
        "x, y = train_generator.__getitem__(7)\n",
        "plt.imshow(x[0]);"
      ],
      "execution_count": 0,
      "outputs": [
        {
          "output_type": "stream",
          "text": [
            "Clipping input data to the valid range for imshow with RGB data ([0..1] for floats or [0..255] for integers).\n"
          ],
          "name": "stderr"
        },
        {
          "output_type": "display_data",
          "data": {
            "image/png": "[encoded data removed]",
            "text/plain": [
              "<Figure size 432x288 with 1 Axes>"
            ]
          },
          "metadata": {
            "tags": [],
            "needs_background": "light"
          }
        }
      ]
    },
    {
      "cell_type": "code",
      "metadata": {
        "id": "rfjvNuMK-sLO",
        "colab_type": "code",
        "colab": {}
      },
      "source": [
        "def get_test_generator(image_dir_train,image_dir_test, sample_size=100, batch_size=16, seed=1, target_w = 320, target_h = 320):\n",
        "    \"\"\"\n",
        "    Return generator for validation set and test test set using \n",
        "    normalization statistics from training set.\n",
        "\n",
        "    Args:\n",
        "      valid_df (dataframe): dataframe specifying validation data.\n",
        "      test_df (dataframe): dataframe specifying test data.\n",
        "      train_df (dataframe): dataframe specifying training data.\n",
        "      image_dir (str): directory where image files are held.\n",
        "      x_col (str): name of column in df that holds filenames.\n",
        "      y_cols (list): list of strings that hold y labels for images.\n",
        "      sample_size (int): size of sample to use for normalization statistics.\n",
        "      batch_size (int): images per batch to be fed into model during training.\n",
        "      seed (int): random seed.\n",
        "      target_w (int): final width of input images.\n",
        "      target_h (int): final height of input images.\n",
        "    \n",
        "    Returns:\n",
        "        test_generator (DataFrameIterator) and valid_generator: iterators over test set and validation set respectively\n",
        "    \"\"\"\n",
        "    print(\"getting train and test generators...\")\n",
        "    # get generator to sample dataset\n",
        "    raw_train_generator = ImageDataGenerator().flow_from_directory(\n",
        "        directory=image_dir_train,  \n",
        "        class_mode=\"binary\", \n",
        "        batch_size=sample_size, \n",
        "        shuffle=True, \n",
        "        target_size=(target_w, target_h))\n",
        "    \n",
        "    # get data sample\n",
        "    batch = raw_train_generator.next()\n",
        "    data_sample = batch[0]\n",
        "\n",
        "    # use sample to fit mean and std for test set generator\n",
        "    image_generator = ImageDataGenerator(\n",
        "        featurewise_center=True,\n",
        "        featurewise_std_normalization= True)\n",
        "    \n",
        "    # fit generator to sample from training data\n",
        "    image_generator.fit(data_sample)\n",
        "\n",
        "    # get test generator\n",
        "\n",
        "    test_generator = image_generator.flow_from_directory(\n",
        "            directory=image_dir_test,\n",
        "            class_mode=\"binary\",\n",
        "            batch_size=batch_size,\n",
        "            shuffle=False,\n",
        "            seed=seed,\n",
        "            target_size=(target_w,target_h))\n",
        "    return test_generator"
      ],
      "execution_count": 0,
      "outputs": []
    },
    {
      "cell_type": "code",
      "metadata": {
        "id": "ZptK_-krGrNI",
        "colab_type": "code",
        "outputId": "b1ec646b-d13e-4760-da00-b207c7ca9ad8",
        "colab": {
          "base_uri": "https://localhost:8080/",
          "height": 67
        }
      },
      "source": [
        "Test_DIR = \"/content/covid_19/content/cloned-repo/Covid_19/testing/\"\n",
        "test_generator= get_test_generator(image_dir_train= TRAINING_DIR ,image_dir_test=Test_DIR)"
      ],
      "execution_count": 0,
      "outputs": [
        {
          "output_type": "stream",
          "text": [
            "getting train and test generators...\n",
            "Found 1694 images belonging to 2 classes.\n",
            "Found 300 images belonging to 2 classes.\n"
          ],
          "name": "stdout"
        }
      ]
    },
    {
      "cell_type": "code",
      "metadata": {
        "id": "GUwn8g6BHMA9",
        "colab_type": "code",
        "outputId": "1fa8e88e-a478-4c41-a8cb-911b47de0975",
        "colab": {
          "base_uri": "https://localhost:8080/",
          "height": 34
        }
      },
      "source": [
        "len(os.listdir(\"/content/covid_19/content/cloned-repo/Covid_19/testing/covid/\"))"
      ],
      "execution_count": 0,
      "outputs": [
        {
          "output_type": "execute_result",
          "data": {
            "text/plain": [
              "63"
            ]
          },
          "metadata": {
            "tags": []
          },
          "execution_count": 14
        }
      ]
    },
    {
      "cell_type": "code",
      "metadata": {
        "id": "m5rKHIfoHZWd",
        "colab_type": "code",
        "outputId": "234b60bb-0ed3-4c57-8873-0ba7a10a00eb",
        "colab": {
          "base_uri": "https://localhost:8080/",
          "height": 34
        }
      },
      "source": [
        "len(os.listdir(\"/content/covid_19/content/cloned-repo/Covid_19/testing/non_covid/\"))"
      ],
      "execution_count": 0,
      "outputs": [
        {
          "output_type": "execute_result",
          "data": {
            "text/plain": [
              "237"
            ]
          },
          "metadata": {
            "tags": []
          },
          "execution_count": 15
        }
      ]
    },
    {
      "cell_type": "code",
      "metadata": {
        "id": "SMgchJtfHgTL",
        "colab_type": "code",
        "outputId": "a5e3276e-1806-45ef-e72f-b2e08793d0d9",
        "colab": {
          "base_uri": "https://localhost:8080/",
          "height": 286
        }
      },
      "source": [
        "x, y = test_generator.__getitem__(8)\n",
        "plt.imshow(x[0]);"
      ],
      "execution_count": 0,
      "outputs": [
        {
          "output_type": "stream",
          "text": [
            "Clipping input data to the valid range for imshow with RGB data ([0..1] for floats or [0..255] for integers).\n"
          ],
          "name": "stderr"
        },
        {
          "output_type": "display_data",
          "data": {
            "image/png": "[encoded data removed]",
            "text/plain": [
              "<Figure size 432x288 with 1 Axes>"
            ]
          },
          "metadata": {
            "tags": [],
            "needs_background": "light"
          }
        }
      ]
    },
    {
      "cell_type": "markdown",
      "metadata": {
        "id": "_ItW77hjIXXo",
        "colab_type": "text"
      },
      "source": [
        "**Model Development using DenseNet121**\n",
        "\n",
        "We will use transfer learning by using weights trained by Pranav, Coursera Tutor AI 4 Medicine"
      ]
    },
    {
      "cell_type": "code",
      "metadata": {
        "id": "KUyuYjXeMOfa",
        "colab_type": "code",
        "outputId": "314b0161-9852-47d7-ceb9-80de1dd7fb61",
        "colab": {
          "base_uri": "https://localhost:8080/",
          "height": 84
        }
      },
      "source": [
        "!ls /content/gdrive/My\\ Drive/Google_Colab/"
      ],
      "execution_count": 0,
      "outputs": [
        {
          "output_type": "stream",
          "text": [
            "Chest_XRay_densenet.hdf5\tHandsOnGoogleColabGPU.ipynb\n",
            "Chest_XRay_pretrained_model.h5\tmnist_cnn.py\n",
            "Covid_19_data_zip.zip\t\tPneumonia_Detection\n",
            "FLU_Prediction\t\t\tTitanic.csv\n"
          ],
          "name": "stdout"
        }
      ]
    },
    {
      "cell_type": "code",
      "metadata": {
        "id": "MHM-BrphHs_M",
        "colab_type": "code",
        "colab": {}
      },
      "source": [
        "# create the base pre-trained model\n",
        "base_model = DenseNet121(weights=\"/content/gdrive/My Drive/Google_Colab/Chest_XRay_densenet.hdf5\", include_top=False)\n",
        "\n",
        "x = base_model.output\n",
        "\n",
        "# add a global spatial average pooling layer\n",
        "x = GlobalAveragePooling2D()(x)\n",
        "\n",
        "# and a logistic layer\n",
        "predictions = Dense(1, activation=\"sigmoid\")(x)\n",
        "\n",
        "model = Model(inputs=base_model.input, outputs=predictions)\n",
        "model.compile(optimizer='adam', loss='binary_crossentropy', metrics=[\"binary_accuracy\"])"
      ],
      "execution_count": 0,
      "outputs": []
    },
    {
      "cell_type": "code",
      "metadata": {
        "id": "BU5zwg7mPDVs",
        "colab_type": "code",
        "outputId": "315fb10c-7257-40ff-b569-99ce913b6c39",
        "colab": {
          "base_uri": "https://localhost:8080/",
          "height": 521
        }
      },
      "source": [
        "history = model.fit_generator(train_generator, \n",
        "                              validation_data=test_generator,\n",
        "                              steps_per_epoch=100, \n",
        "                              validation_steps=25, \n",
        "                              epochs = 15)"
      ],
      "execution_count": 0,
      "outputs": [
        {
          "output_type": "stream",
          "text": [
            "Epoch 1/15\n",
            "100/100 [==============================] - 120s 1s/step - loss: 0.0969 - binary_accuracy: 0.9700 - val_loss: 471.3595 - val_binary_accuracy: 0.3232\n",
            "Epoch 2/15\n",
            "100/100 [==============================] - 70s 697ms/step - loss: 0.0343 - binary_accuracy: 0.9862 - val_loss: 8.3740e-04 - val_binary_accuracy: 0.9167\n",
            "Epoch 3/15\n",
            "100/100 [==============================] - 69s 692ms/step - loss: 0.0285 - binary_accuracy: 0.9875 - val_loss: 3.2973e-29 - val_binary_accuracy: 0.8939\n",
            "Epoch 4/15\n",
            "100/100 [==============================] - 70s 704ms/step - loss: 0.0287 - binary_accuracy: 0.9906 - val_loss: 3.0420e-06 - val_binary_accuracy: 0.9005\n",
            "Epoch 5/15\n",
            "100/100 [==============================] - 68s 680ms/step - loss: 0.0362 - binary_accuracy: 0.9850 - val_loss: 7.8096e-09 - val_binary_accuracy: 0.9293\n",
            "Epoch 6/15\n",
            "100/100 [==============================] - 68s 679ms/step - loss: 0.0289 - binary_accuracy: 0.9900 - val_loss: 3.3645e-10 - val_binary_accuracy: 0.9823\n",
            "Epoch 7/15\n",
            "100/100 [==============================] - 71s 711ms/step - loss: 0.0316 - binary_accuracy: 0.9900 - val_loss: 0.1739 - val_binary_accuracy: 0.9362\n",
            "Epoch 8/15\n",
            "100/100 [==============================] - 66s 664ms/step - loss: 0.0191 - binary_accuracy: 0.9919 - val_loss: 5.3396e-06 - val_binary_accuracy: 0.9823\n",
            "Epoch 9/15\n",
            "100/100 [==============================] - 68s 679ms/step - loss: 0.0147 - binary_accuracy: 0.9956 - val_loss: 5.4186e-04 - val_binary_accuracy: 0.9773\n",
            "Epoch 10/15\n",
            "100/100 [==============================] - 69s 693ms/step - loss: 0.0043 - binary_accuracy: 0.9994 - val_loss: 0.0174 - val_binary_accuracy: 0.9872\n",
            "Epoch 11/15\n",
            "100/100 [==============================] - 68s 675ms/step - loss: 0.0126 - binary_accuracy: 0.9969 - val_loss: 7.6926e-07 - val_binary_accuracy: 0.9899\n",
            "Epoch 12/15\n",
            "100/100 [==============================] - 67s 669ms/step - loss: 0.0108 - binary_accuracy: 0.9962 - val_loss: 0.0083 - val_binary_accuracy: 0.9823\n",
            "Epoch 13/15\n",
            "100/100 [==============================] - 68s 683ms/step - loss: 0.0165 - binary_accuracy: 0.9931 - val_loss: 2.9752 - val_binary_accuracy: 0.9566\n",
            "Epoch 14/15\n",
            "100/100 [==============================] - 67s 671ms/step - loss: 0.0377 - binary_accuracy: 0.9881 - val_loss: 0.1575 - val_binary_accuracy: 0.8586\n",
            "Epoch 15/15\n",
            "100/100 [==============================] - 67s 671ms/step - loss: 0.0198 - binary_accuracy: 0.9944 - val_loss: 2.5009 - val_binary_accuracy: 0.8965\n"
          ],
          "name": "stdout"
        }
      ]
    },
    {
      "cell_type": "code",
      "metadata": {
        "id": "agfdCPisPP2r",
        "colab_type": "code",
        "outputId": "f607bc28-447e-4211-ef8f-117f3b70c61a",
        "colab": {
          "base_uri": "https://localhost:8080/",
          "height": 295
        }
      },
      "source": [
        "plt.plot(history.history['loss'])\n",
        "plt.ylabel(\"loss\")\n",
        "plt.xlabel(\"epoch\")\n",
        "plt.title(\"Training Loss Curve\")\n",
        "plt.show()"
      ],
      "execution_count": 0,
      "outputs": [
        {
          "output_type": "display_data",
          "data": {
            "image/png": "[encoded data removed]",
            "text/plain": [
              "<Figure size 432x288 with 1 Axes>"
            ]
          },
          "metadata": {
            "tags": [],
            "needs_background": "light"
          }
        }
      ]
    },
    {
      "cell_type": "code",
      "metadata": {
        "id": "l9vaSy1vkZYs",
        "colab_type": "code",
        "colab": {}
      },
      "source": [
        "predicted_vals = model.predict_generator(test_generator, steps = len(test_generator))"
      ],
      "execution_count": 0,
      "outputs": []
    },
    {
      "cell_type": "code",
      "metadata": {
        "id": "uHtNyI_tlvGT",
        "colab_type": "code",
        "colab": {}
      },
      "source": [
        "predicted_vals"
      ],
      "execution_count": 0,
      "outputs": []
    },
    {
      "cell_type": "code",
      "metadata": {
        "id": "88eVFxrw3bOs",
        "colab_type": "code",
        "colab": {}
      },
      "source": [
        "predicted_indices = (predicted_vals <= 0.5)* 1"
      ],
      "execution_count": 0,
      "outputs": []
    },
    {
      "cell_type": "code",
      "metadata": {
        "id": "thgeg84e3kTO",
        "colab_type": "code",
        "outputId": "52079706-f5df-4f57-c2ff-8997e298007a",
        "colab": {
          "base_uri": "https://localhost:8080/",
          "height": 34
        }
      },
      "source": [
        "np.unique(predicted_indices, return_counts=True)"
      ],
      "execution_count": 0,
      "outputs": [
        {
          "output_type": "execute_result",
          "data": {
            "text/plain": [
              "(array([0, 1]), array([228,  72]))"
            ]
          },
          "metadata": {
            "tags": []
          },
          "execution_count": 48
        }
      ]
    },
    {
      "cell_type": "code",
      "metadata": {
        "id": "QekoNJBE4CDn",
        "colab_type": "code",
        "outputId": "2fcbcbde-b65c-4989-d89c-ad090edae388",
        "colab": {
          "base_uri": "https://localhost:8080/",
          "height": 34
        }
      },
      "source": [
        "type(filenames_1)"
      ],
      "execution_count": 0,
      "outputs": [
        {
          "output_type": "execute_result",
          "data": {
            "text/plain": [
              "list"
            ]
          },
          "metadata": {
            "tags": []
          },
          "execution_count": 57
        }
      ]
    },
    {
      "cell_type": "code",
      "metadata": {
        "id": "kZGHnA6a5IUs",
        "colab_type": "code",
        "colab": {}
      },
      "source": [
        "filenames_1 = np.array(filenames)"
      ],
      "execution_count": 0,
      "outputs": []
    },
    {
      "cell_type": "code",
      "metadata": {
        "id": "5oT5-PwM5OPL",
        "colab_type": "code",
        "outputId": "59e2e652-b680-4c6e-aa20-d1a1c83b366d",
        "colab": {
          "base_uri": "https://localhost:8080/",
          "height": 34
        }
      },
      "source": [
        "filenames[1]"
      ],
      "execution_count": 0,
      "outputs": [
        {
          "output_type": "execute_result",
          "data": {
            "text/plain": [
              "'covid/0a7faa2a.jpg'"
            ]
          },
          "metadata": {
            "tags": []
          },
          "execution_count": 61
        }
      ]
    },
    {
      "cell_type": "code",
      "metadata": {
        "id": "nrUDrf_t5fbd",
        "colab_type": "code",
        "colab": {}
      },
      "source": [
        "predicted_indices_1 = np.reshape(predicted_indices,(300,))"
      ],
      "execution_count": 0,
      "outputs": []
    },
    {
      "cell_type": "code",
      "metadata": {
        "id": "cRSiKulO3IlL",
        "colab_type": "code",
        "colab": {}
      },
      "source": [
        "filenames=test_generator.filenames\n",
        "filenames_1 = np.array(filenames)\n",
        "results=pd.DataFrame({\"Filename\":filenames_1,\n",
        "                      \"Predictions\":predicted_indices_1})"
      ],
      "execution_count": 0,
      "outputs": []
    },
    {
      "cell_type": "code",
      "metadata": {
        "id": "7tPne9JK52as",
        "colab_type": "code",
        "outputId": "b6a5c9bc-ae7e-4d11-ba88-e1d8f065b5eb",
        "colab": {
          "base_uri": "https://localhost:8080/",
          "height": 195
        }
      },
      "source": [
        "results.head()"
      ],
      "execution_count": 0,
      "outputs": [
        {
          "output_type": "execute_result",
          "data": {
            "text/html": [
              "<div>\n",
              "<style scoped>\n",
              "    .dataframe tbody tr th:only-of-type {\n",
              "        vertical-align: middle;\n",
              "    }\n",
              "\n",
              "    .dataframe tbody tr th {\n",
              "        vertical-align: top;\n",
              "    }\n",
              "\n",
              "    .dataframe thead th {\n",
              "        text-align: right;\n",
              "    }\n",
              "</style>\n",
              "<table border=\"1\" class=\"dataframe\">\n",
              "  <thead>\n",
              "    <tr style=\"text-align: right;\">\n",
              "      <th></th>\n",
              "      <th>Filename</th>\n",
              "      <th>Predictions</th>\n",
              "    </tr>\n",
              "  </thead>\n",
              "  <tbody>\n",
              "    <tr>\n",
              "      <th>0</th>\n",
              "      <td>covid/08d780ae.jpg</td>\n",
              "      <td>0</td>\n",
              "    </tr>\n",
              "    <tr>\n",
              "      <th>1</th>\n",
              "      <td>covid/0a7faa2a.jpg</td>\n",
              "      <td>0</td>\n",
              "    </tr>\n",
              "    <tr>\n",
              "      <th>2</th>\n",
              "      <td>covid/1-s2.0-S0929664620300449-gr2_lrg-b.jpg</td>\n",
              "      <td>1</td>\n",
              "    </tr>\n",
              "    <tr>\n",
              "      <th>3</th>\n",
              "      <td>covid/16630_2_1.jpg</td>\n",
              "      <td>1</td>\n",
              "    </tr>\n",
              "    <tr>\n",
              "      <th>4</th>\n",
              "      <td>covid/16630_4_1.jpg</td>\n",
              "      <td>1</td>\n",
              "    </tr>\n",
              "  </tbody>\n",
              "</table>\n",
              "</div>"
            ],
            "text/plain": [
              "                                       Filename  Predictions\n",
              "0                            covid/08d780ae.jpg            0\n",
              "1                            covid/0a7faa2a.jpg            0\n",
              "2  covid/1-s2.0-S0929664620300449-gr2_lrg-b.jpg            1\n",
              "3                           covid/16630_2_1.jpg            1\n",
              "4                           covid/16630_4_1.jpg            1"
            ]
          },
          "metadata": {
            "tags": []
          },
          "execution_count": 68
        }
      ]
    },
    {
      "cell_type": "code",
      "metadata": {
        "id": "pXhz-tzw5_Ih",
        "colab_type": "code",
        "colab": {}
      },
      "source": [
        "results.to_csv(\"/content/gdrive/My Drive/Google_Colab/Baseline_Prediction_results.csv\")"
      ],
      "execution_count": 0,
      "outputs": []
    },
    {
      "cell_type": "code",
      "metadata": {
        "id": "5bq4Q-HxndVl",
        "colab_type": "code",
        "colab": {}
      },
      "source": [
        "/content/gdrive/My\\ Drive/Google_Colab/"
      ],
      "execution_count": 0,
      "outputs": []
    },
    {
      "cell_type": "code",
      "metadata": {
        "id": "lvVujzSumvQg",
        "colab_type": "code",
        "outputId": "7f7dcc36-8771-46ba-8764-ab1bfcf1faf8",
        "colab": {
          "base_uri": "https://localhost:8080/",
          "height": 34
        }
      },
      "source": [
        "model_json = model.to_json()\n",
        "with open(\"/content/gdrive/My Drive/Google_Colab/model_covid_19_Base_line_run_3June.json\", \"w\") as json_file:\n",
        "    json_file.write(model_json)\n",
        "# serialize weights to HDF5\n",
        "model.save_weights(\"/content/gdrive/My Drive/Google_Colab/model_covid_19_Base_line_run_3June.h5\")\n",
        "print(\"Saved model to drive\")"
      ],
      "execution_count": 0,
      "outputs": [
        {
          "output_type": "stream",
          "text": [
            "Saved model to drive\n"
          ],
          "name": "stdout"
        }
      ]
    },
    {
      "cell_type": "code",
      "metadata": {
        "id": "gpEzlEG0nyUT",
        "colab_type": "code",
        "outputId": "decc3467-823f-4eb2-fe2a-1d3749603b51",
        "colab": {
          "base_uri": "https://localhost:8080/",
          "height": 34
        }
      },
      "source": [
        "# load json and create model\n",
        "from keras.models import model_from_json\n",
        "json_file = open('/content/gdrive/My Drive/Google_Colab/model_covid_19_Base_line_run_3June.json', 'r')\n",
        "loaded_model_json = json_file.read()\n",
        "json_file.close()\n",
        "loaded_model = model_from_json(loaded_model_json)\n",
        "# load weights into new model\n",
        "loaded_model.load_weights(\"/content/gdrive/My Drive/Google_Colab/model_covid_19_Base_line_run_3June.h5\")\n",
        "print(\"Loaded model from drive\")"
      ],
      "execution_count": 0,
      "outputs": [
        {
          "output_type": "stream",
          "text": [
            "Loaded model from drive\n"
          ],
          "name": "stdout"
        }
      ]
    },
    {
      "cell_type": "code",
      "metadata": {
        "id": "yFXR6c1KoVCo",
        "colab_type": "code",
        "colab": {}
      },
      "source": [
        "loaded_model.compile(optimizer='adam', loss='binary_crossentropy', metrics=[\"binary_accuracy\"])"
      ],
      "execution_count": 0,
      "outputs": []
    },
    {
      "cell_type": "code",
      "metadata": {
        "id": "6tzo9XpAoZNm",
        "colab_type": "code",
        "colab": {}
      },
      "source": [
        "predicted_vals_loaded_model = loaded_model.predict_generator(test_generator, steps = len(test_generator))"
      ],
      "execution_count": 0,
      "outputs": []
    },
    {
      "cell_type": "code",
      "metadata": {
        "id": "S-jY23YgoZH2",
        "colab_type": "code",
        "outputId": "400ef64d-00ff-40fd-e4c2-f27b3f95f39f",
        "colab": {
          "base_uri": "https://localhost:8080/",
          "height": 34
        }
      },
      "source": [
        "sum(predicted_vals_loaded_model==predicted_vals)"
      ],
      "execution_count": 0,
      "outputs": [
        {
          "output_type": "execute_result",
          "data": {
            "text/plain": [
              "array([300])"
            ]
          },
          "metadata": {
            "tags": []
          },
          "execution_count": 31
        }
      ]
    },
    {
      "cell_type": "code",
      "metadata": {
        "id": "FGzdyfbxoZEf",
        "colab_type": "code",
        "outputId": "73925ac8-2761-4f18-9672-db44169d0190",
        "colab": {
          "base_uri": "https://localhost:8080/",
          "height": 34
        }
      },
      "source": [
        "sum(predicted_vals_loaded_model >= 0.99)"
      ],
      "execution_count": 0,
      "outputs": [
        {
          "output_type": "execute_result",
          "data": {
            "text/plain": [
              "array([200])"
            ]
          },
          "metadata": {
            "tags": []
          },
          "execution_count": 36
        }
      ]
    },
    {
      "cell_type": "code",
      "metadata": {
        "id": "PF1So0kBoY7h",
        "colab_type": "code",
        "outputId": "749725f8-51e4-4e8c-e655-beb8e703a142",
        "colab": {
          "base_uri": "https://localhost:8080/",
          "height": 562
        }
      },
      "source": [
        "%matplotlib inline\n",
        "\n",
        "import matplotlib.image  as mpimg\n",
        "import matplotlib.pyplot as plt\n",
        "\n",
        "#-----------------------------------------------------------\n",
        "# Retrieve a list of list results on training and test data\n",
        "# sets for each training epoch\n",
        "#-----------------------------------------------------------\n",
        "acc=history.history['binary_accuracy']\n",
        "val_acc=history.history['val_binary_accuracy']\n",
        "loss=history.history['loss']\n",
        "val_loss=history.history['val_loss']\n",
        "\n",
        "epochs=range(len(acc)) # Get number of epochs\n",
        "\n",
        "#------------------------------------------------\n",
        "# Plot training and validation accuracy per epoch\n",
        "#------------------------------------------------\n",
        "plt.plot(epochs, acc, 'r', \"Training Accuracy\")\n",
        "plt.plot(epochs, val_acc, 'b', \"Validation Accuracy\")\n",
        "plt.title('Training and validation accuracy')\n",
        "plt.figure()\n",
        "\n",
        "#------------------------------------------------\n",
        "# Plot training and validation loss per epoch\n",
        "#------------------------------------------------\n",
        "plt.plot(epochs[1:], loss[1:], 'r', \"Training Loss\")\n",
        "plt.plot(epochs[1:], val_loss[1:], 'b', \"Validation Loss\")\n",
        "plt.figure()"
      ],
      "execution_count": 0,
      "outputs": [
        {
          "output_type": "execute_result",
          "data": {
            "text/plain": [
              "<Figure size 432x288 with 0 Axes>"
            ]
          },
          "metadata": {
            "tags": []
          },
          "execution_count": 42
        },
        {
          "output_type": "display_data",
          "data": {
            "image/png": "[encoded data removed]",
            "text/plain": [
              "<Figure size 432x288 with 1 Axes>"
            ]
          },
          "metadata": {
            "tags": [],
            "needs_background": "light"
          }
        },
        {
          "output_type": "display_data",
          "data": {
            "image/png": "[encoded data removed]",
            "text/plain": [
              "<Figure size 432x288 with 1 Axes>"
            ]
          },
          "metadata": {
            "tags": [],
            "needs_background": "light"
          }
        },
        {
          "output_type": "display_data",
          "data": {
            "text/plain": [
              "<Figure size 432x288 with 0 Axes>"
            ]
          },
          "metadata": {
            "tags": []
          }
        }
      ]
    },
    {
      "cell_type": "code",
      "metadata": {
        "id": "PK-eoXfeoYw2",
        "colab_type": "code",
        "outputId": "a28e7f4e-e596-4cb3-8fa1-aa8a2a594830",
        "colab": {
          "base_uri": "https://localhost:8080/",
          "height": 34
        }
      },
      "source": [
        "np.unique(predicted_vals <= 0.5,return_counts=True)"
      ],
      "execution_count": 0,
      "outputs": [
        {
          "output_type": "execute_result",
          "data": {
            "text/plain": [
              "(array([False,  True]), array([228,  72]))"
            ]
          },
          "metadata": {
            "tags": []
          },
          "execution_count": 43
        }
      ]
    },
    {
      "cell_type": "code",
      "metadata": {
        "id": "FAN9fW1PoYfN",
        "colab_type": "code",
        "colab": {}
      },
      "source": [
        ""
      ],
      "execution_count": 0,
      "outputs": []
    },
    {
      "cell_type": "code",
      "metadata": {
        "id": "RqpauxQbMtB_",
        "colab_type": "code",
        "colab": {}
      },
      "source": [
        "model.load_weights(\"/content/gdrive/My Drive/Google_Colab/Chest_XRay_pretrained_model.h5\")"
      ],
      "execution_count": 0,
      "outputs": []
    },
    {
      "cell_type": "code",
      "metadata": {
        "id": "e6MGOiMrM93i",
        "colab_type": "code",
        "colab": {}
      },
      "source": [
        "predicted_vals = model.predict_generator(test_generator, steps = len(test_generator))"
      ],
      "execution_count": 0,
      "outputs": []
    },
    {
      "cell_type": "code",
      "metadata": {
        "id": "ejYcKsPBOljE",
        "colab_type": "code",
        "outputId": "494fd4ba-4061-447f-ae6c-c3e68db20112",
        "colab": {
          "base_uri": "https://localhost:8080/",
          "height": 34
        }
      },
      "source": [
        "predicted_vals.argmax(axis= 1).shape"
      ],
      "execution_count": 0,
      "outputs": [
        {
          "output_type": "execute_result",
          "data": {
            "text/plain": [
              "(300,)"
            ]
          },
          "metadata": {
            "tags": []
          },
          "execution_count": 64
        }
      ]
    },
    {
      "cell_type": "code",
      "metadata": {
        "id": "zZu21MBGNrvq",
        "colab_type": "code",
        "outputId": "a4a6492c-6254-4b4f-db5f-fbf4984bcb4b",
        "colab": {
          "base_uri": "https://localhost:8080/",
          "height": 67
        }
      },
      "source": [
        "np.unique(predicted_vals.argmax(axis= 1), return_counts=True)"
      ],
      "execution_count": 0,
      "outputs": [
        {
          "output_type": "execute_result",
          "data": {
            "text/plain": [
              "(array([ 0,  1,  2,  3,  4,  5,  6,  7,  8,  9, 10, 11, 12, 13]),\n",
              " array([146,  10,   1,   1,  42,  32,  16,   2,   5,   2,   5,  17,  12,\n",
              "          9]))"
            ]
          },
          "metadata": {
            "tags": []
          },
          "execution_count": 63
        }
      ]
    },
    {
      "cell_type": "code",
      "metadata": {
        "id": "Byp4rdRYOQ-m",
        "colab_type": "code",
        "colab": {}
      },
      "source": [
        ""
      ],
      "execution_count": 0,
      "outputs": []
    }
  ]
}